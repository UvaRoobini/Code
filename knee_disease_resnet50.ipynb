{
  "cells": [
    {
      "cell_type": "markdown",
      "metadata": {
        "id": "view-in-github",
        "colab_type": "text"
      },
      "source": [
        "<a href=\"https://colab.research.google.com/github/UvaRoobini/CSE/blob/main/knee_disease_resnet50.ipynb\" target=\"_parent\"><img src=\"https://colab.research.google.com/assets/colab-badge.svg\" alt=\"Open In Colab\"/></a>"
      ]
    },
    {
      "cell_type": "code",
      "execution_count": 23,
      "id": "394c1056",
      "metadata": {
        "id": "394c1056"
      },
      "outputs": [],
      "source": [
        "import os\n",
        "import timeit\n",
        "\n",
        "import matplotlib.pyplot as plt\n",
        "import numpy as np\n",
        "import seaborn as sns\n",
        "import tensorflow as tf\n",
        "from sklearn.metrics import (accuracy_score, balanced_accuracy_score,\n",
        "                             classification_report, confusion_matrix)\n",
        "from sklearn.utils.class_weight import compute_class_weight"
      ]
    },
    {
      "cell_type": "code",
      "execution_count": 24,
      "id": "25123e25",
      "metadata": {
        "id": "25123e25"
      },
      "outputs": [],
      "source": [
        "np.random.seed(12049)"
      ]
    },
    {
      "cell_type": "code",
      "execution_count": 25,
      "id": "af39f65b",
      "metadata": {
        "id": "af39f65b"
      },
      "outputs": [],
      "source": [
        "def get_plot_loss_acc(model, model_name):\n",
        "    fig = plt.figure()\n",
        "    plt.subplot(2, 1, 1)\n",
        "    plt.plot(model.history.history[\"loss\"])\n",
        "    plt.plot(model.history.history[\"val_loss\"])\n",
        "    plt.title(f\"{model_name} \\n\\n model loss\")\n",
        "    plt.ylabel(\"loss\")\n",
        "    plt.xlabel(\"epoch\")\n",
        "    plt.legend([\"train\", \"valid\"], loc=\"upper right\")\n",
        "\n",
        "    plt.subplot(2, 1, 2)\n",
        "    plt.plot(model.history.history[\"accuracy\"])\n",
        "    plt.plot(model.history.history[\"val_accuracy\"])\n",
        "    plt.title(\"model accuracy\")\n",
        "    plt.ylabel(\"accuracy\")\n",
        "    plt.xlabel(\"epoch\")\n",
        "    plt.legend([\"train\", \"valid\"], loc=\"lower right\")\n",
        "\n",
        "    plt.tight_layout()\n",
        "\n",
        "\n",
        "def compute_confusion_matrix(\n",
        "    ytrue, ypred, class_names, model_name\n",
        "):\n",
        "    cm = confusion_matrix(\n",
        "        y_true=ytrue.labels,\n",
        "        y_pred=np.argmax(ypred, axis=1),\n",
        "    )\n",
        "\n",
        "    cmn = cm.astype(\"float\") / cm.sum(axis=1)[:, np.newaxis]\n",
        "    plt.subplots(figsize=(6, 5))\n",
        "    sns.heatmap(\n",
        "        cmn,\n",
        "        annot=True,\n",
        "        fmt=\".2f\",\n",
        "        cmap=\"Purples\",\n",
        "        xticklabels=class_names,\n",
        "        yticklabels=class_names,\n",
        "    )\n",
        "    plt.title(f\"Confusion Matrix - {model_name}\")\n",
        "    plt.ylabel(\"Actual\")\n",
        "    plt.xlabel(\"Predicted\")\n",
        "    plt.show(block=False)\n",
        "\n",
        "\n",
        "def get_evaluate(data, name, model):\n",
        "    score_model = model.evaluate(data, verbose=1)\n",
        "    print(f\"{name} loss: {score_model[0]:.2f}\")\n",
        "    print(f\"{name} accuracy: {score_model[1]:.2f}\")\n",
        "\n",
        "\n",
        "def get_predict(data, model):\n",
        "    predict_model = model.predict(data)\n",
        "    return predict_model\n",
        "\n",
        "\n",
        "def get_metrics(y_test, y_pred, model_name):\n",
        "    acc = accuracy_score(y_test, y_pred)\n",
        "    bal_acc = balanced_accuracy_score(y_test, y_pred)\n",
        "\n",
        "    print(f\"Accuracy Score - {model_name}: {acc:.2f}\")\n",
        "    print(f\"Balanced Accuracy Score - {model_name}: {bal_acc:.2f}\")\n",
        "    print(\"\\n\")\n",
        "\n",
        "    print(classification_report(y_test, y_pred))"
      ]
    },
    {
      "cell_type": "code",
      "source": [
        "!git clone https://github.com/UvaRoobini/kneedataset.git"
      ],
      "metadata": {
        "colab": {
          "base_uri": "https://localhost:8080/"
        },
        "id": "A3g7OOlDfXUT",
        "outputId": "bef5e407-72ac-4c52-88b3-871a1fef7532"
      },
      "id": "A3g7OOlDfXUT",
      "execution_count": 26,
      "outputs": [
        {
          "output_type": "stream",
          "name": "stdout",
          "text": [
            "fatal: destination path 'kneedataset' already exists and is not an empty directory.\n"
          ]
        }
      ]
    },
    {
      "cell_type": "code",
      "execution_count": 27,
      "id": "4ddb1435",
      "metadata": {
        "id": "4ddb1435"
      },
      "outputs": [],
      "source": [
        "base_dir = \"/content/kneedataset\"\n",
        "train_path = os.path.join(base_dir, 'train')\n",
        "valid_path = os.path.join(base_dir, 'val')\n",
        "test_path = os.path.join(base_dir, 'test')"
      ]
    },
    {
      "cell_type": "code",
      "execution_count": 28,
      "id": "43563b49",
      "metadata": {
        "id": "43563b49"
      },
      "outputs": [],
      "source": [
        "model_name = \"ResNet50\"\n",
        "class_names = ['Healthy', 'Doubtful', 'Minimal', 'Moderate', 'Severe']\n",
        "\n",
        "target_size = (224, 224)\n",
        "epochs = 100\n",
        "batch_size = 256\n",
        "img_shape = (224, 224, 3)\n",
        "\n",
        "# Save model\n",
        "save_model_ft = os.path.join(\"D:/kneeproject\", f'resnet50_model.hdf5')"
      ]
    },
    {
      "cell_type": "code",
      "execution_count": 29,
      "id": "df1dc57f",
      "metadata": {
        "id": "df1dc57f"
      },
      "outputs": [],
      "source": [
        "aug_datagen = tf.keras.preprocessing.image.ImageDataGenerator(\n",
        "    preprocessing_function=tf.keras.applications.resnet50.preprocess_input,\n",
        "    horizontal_flip=True,\n",
        "    brightness_range=[0.3, 0.8],\n",
        "    width_shift_range=[-50, 0, 50, 30, -30],\n",
        "    zoom_range=0.1,\n",
        "    fill_mode=\"nearest\",\n",
        ")\n",
        "\n",
        "noaug_datagen = tf.keras.preprocessing.image.ImageDataGenerator(\n",
        "    preprocessing_function=tf.keras.applications.resnet50.preprocess_input,\n",
        ")"
      ]
    },
    {
      "cell_type": "code",
      "execution_count": 30,
      "id": "3f87d1c0",
      "metadata": {
        "colab": {
          "base_uri": "https://localhost:8080/"
        },
        "id": "3f87d1c0",
        "outputId": "697418e8-6ae1-4177-c673-253e9d719abb"
      },
      "outputs": [
        {
          "output_type": "stream",
          "name": "stdout",
          "text": [
            "Found 1172 images belonging to 5 classes.\n",
            "Found 214 images belonging to 5 classes.\n"
          ]
        }
      ],
      "source": [
        "train_generator = aug_datagen.flow_from_directory(\n",
        "    train_path, class_mode=\"categorical\", target_size=target_size, shuffle=True\n",
        ")\n",
        "\n",
        "valid_generator = noaug_datagen.flow_from_directory(\n",
        "    valid_path,\n",
        "    class_mode=\"categorical\",\n",
        "    target_size=target_size,\n",
        "    shuffle=False,\n",
        ")"
      ]
    },
    {
      "cell_type": "code",
      "execution_count": 31,
      "id": "50a2aded",
      "metadata": {
        "id": "50a2aded"
      },
      "outputs": [],
      "source": [
        "y_train = train_generator.labels\n",
        "y_val = valid_generator.labels"
      ]
    },
    {
      "cell_type": "code",
      "execution_count": 32,
      "id": "07deeb88",
      "metadata": {
        "colab": {
          "base_uri": "https://localhost:8080/"
        },
        "id": "07deeb88",
        "outputId": "14f6aed3-5ea3-4456-8c18-1a7cb2171e0c"
      },
      "outputs": [
        {
          "output_type": "stream",
          "name": "stdout",
          "text": [
            "Train:  {0: 275, 1: 275, 2: 275, 3: 275, 4: 72}\n",
            "{0: 0.8523636363636363, 1: 0.8523636363636363, 2: 0.8523636363636363, 3: 0.8523636363636363, 4: 3.2555555555555555}\n"
          ]
        }
      ],
      "source": [
        "unique, counts = np.unique(y_train, return_counts=True)\n",
        "print(\"Train: \", dict(zip(unique, counts)))\n",
        "\n",
        "class_weights = compute_class_weight(\n",
        "    class_weight=\"balanced\", classes=np.unique(y_train), y=y_train\n",
        ")\n",
        "train_class_weights = dict(enumerate(class_weights))\n",
        "print(train_class_weights)"
      ]
    },
    {
      "cell_type": "code",
      "execution_count": 33,
      "id": "0060fff2",
      "metadata": {
        "id": "0060fff2"
      },
      "outputs": [],
      "source": [
        "classes = np.unique(y_train)\n",
        "\n",
        "# Callbacks\n",
        "early = tf.keras.callbacks.EarlyStopping(\n",
        "            monitor='val_loss', min_delta=0.01, patience=8,\n",
        "            restore_best_weights=True\n",
        "        )\n",
        "plateau = tf.keras.callbacks.ReduceLROnPlateau(\n",
        "                monitor='loss', factor=0.1, min_delta=0.01,\n",
        "                min_lr=1e-10, patience=4, mode='auto'\n",
        "            )"
      ]
    },
    {
      "cell_type": "code",
      "execution_count": 34,
      "id": "29b372a2",
      "metadata": {
        "id": "29b372a2"
      },
      "outputs": [],
      "source": [
        "model = tf.keras.applications.ResNet50(\n",
        "    input_shape=(img_shape),\n",
        "    include_top=False,\n",
        "    weights=\"imagenet\",\n",
        ")"
      ]
    },
    {
      "cell_type": "code",
      "execution_count": 35,
      "id": "15b5f4e5",
      "metadata": {
        "colab": {
          "base_uri": "https://localhost:8080/"
        },
        "id": "15b5f4e5",
        "outputId": "ad6fb7ec-75eb-44f0-d879-a21e5a976ab6"
      },
      "outputs": [
        {
          "output_type": "stream",
          "name": "stdout",
          "text": [
            "Model: \"sequential_1\"\n",
            "_________________________________________________________________\n",
            " Layer (type)                Output Shape              Param #   \n",
            "=================================================================\n",
            " resnet50 (Functional)       (None, 7, 7, 2048)        23587712  \n",
            "                                                                 \n",
            " global_average_pooling2d_1  (None, 2048)              0         \n",
            "  (GlobalAveragePooling2D)                                       \n",
            "                                                                 \n",
            " dropout_1 (Dropout)         (None, 2048)              0         \n",
            "                                                                 \n",
            " dense_1 (Dense)             (None, 5)                 10245     \n",
            "                                                                 \n",
            "=================================================================\n",
            "Total params: 23597957 (90.02 MB)\n",
            "Trainable params: 23544837 (89.82 MB)\n",
            "Non-trainable params: 53120 (207.50 KB)\n",
            "_________________________________________________________________\n"
          ]
        }
      ],
      "source": [
        "for layer in model.layers:\n",
        "    layer.trainable = True\n",
        "\n",
        "model_ft = tf.keras.models.Sequential(\n",
        "    [\n",
        "        model,\n",
        "        tf.keras.layers.GlobalAveragePooling2D(),\n",
        "        tf.keras.layers.Dropout(0.2),\n",
        "        tf.keras.layers.Dense(5, activation=\"softmax\"),\n",
        "    ]\n",
        ")\n",
        "\n",
        "model_ft.summary()"
      ]
    },
    {
      "cell_type": "code",
      "execution_count": 36,
      "id": "f68de1c1",
      "metadata": {
        "colab": {
          "base_uri": "https://localhost:8080/"
        },
        "id": "f68de1c1",
        "outputId": "151f7d77-241d-4601-b81f-aef5bcc60887"
      },
      "outputs": [
        {
          "output_type": "stream",
          "name": "stdout",
          "text": [
            "Epoch 1/100\n",
            "37/37 [==============================] - 56s 637ms/step - loss: 2.0752 - accuracy: 0.2338 - val_loss: 6026896.0000 - val_accuracy: 0.2336 - lr: 0.0010\n",
            "Epoch 2/100\n",
            "37/37 [==============================] - 24s 641ms/step - loss: 1.7802 - accuracy: 0.2432 - val_loss: 10392.2305 - val_accuracy: 0.2009 - lr: 0.0010\n",
            "Epoch 3/100\n",
            "37/37 [==============================] - 23s 623ms/step - loss: 1.7308 - accuracy: 0.2406 - val_loss: 75.4405 - val_accuracy: 0.1916 - lr: 0.0010\n",
            "Epoch 4/100\n",
            "37/37 [==============================] - 24s 651ms/step - loss: 1.5345 - accuracy: 0.2705 - val_loss: 5.3394 - val_accuracy: 0.2850 - lr: 0.0010\n",
            "Epoch 5/100\n",
            "37/37 [==============================] - 24s 645ms/step - loss: 1.3445 - accuracy: 0.3439 - val_loss: 12.5544 - val_accuracy: 0.2336 - lr: 0.0010\n",
            "Epoch 6/100\n",
            "37/37 [==============================] - 24s 644ms/step - loss: 1.2360 - accuracy: 0.3805 - val_loss: 12.4973 - val_accuracy: 0.2617 - lr: 0.0010\n",
            "Epoch 7/100\n",
            "37/37 [==============================] - 24s 645ms/step - loss: 1.1762 - accuracy: 0.4070 - val_loss: 20.9896 - val_accuracy: 0.2383 - lr: 0.0010\n",
            "Epoch 8/100\n",
            "37/37 [==============================] - 24s 653ms/step - loss: 1.0817 - accuracy: 0.4633 - val_loss: 2.5948 - val_accuracy: 0.2710 - lr: 0.0010\n",
            "Epoch 9/100\n",
            "37/37 [==============================] - 24s 647ms/step - loss: 1.0884 - accuracy: 0.4326 - val_loss: 3.5082 - val_accuracy: 0.2710 - lr: 0.0010\n",
            "Epoch 10/100\n",
            "37/37 [==============================] - 23s 629ms/step - loss: 1.0035 - accuracy: 0.4710 - val_loss: 5.7289 - val_accuracy: 0.2804 - lr: 0.0010\n",
            "Epoch 11/100\n",
            "37/37 [==============================] - 25s 671ms/step - loss: 0.9947 - accuracy: 0.4957 - val_loss: 4.4813 - val_accuracy: 0.2944 - lr: 0.0010\n",
            "Epoch 12/100\n",
            "37/37 [==============================] - 24s 647ms/step - loss: 0.9505 - accuracy: 0.5068 - val_loss: 3.7879 - val_accuracy: 0.3037 - lr: 0.0010\n",
            "Epoch 13/100\n",
            "37/37 [==============================] - 24s 646ms/step - loss: 0.9062 - accuracy: 0.5435 - val_loss: 5.0432 - val_accuracy: 0.2570 - lr: 0.0010\n",
            "Epoch 14/100\n",
            "37/37 [==============================] - 24s 646ms/step - loss: 0.9373 - accuracy: 0.5230 - val_loss: 2.2782 - val_accuracy: 0.3551 - lr: 0.0010\n",
            "Epoch 15/100\n",
            "37/37 [==============================] - 24s 652ms/step - loss: 0.8996 - accuracy: 0.5290 - val_loss: 1.2339 - val_accuracy: 0.5140 - lr: 0.0010\n",
            "Epoch 16/100\n",
            "37/37 [==============================] - 24s 640ms/step - loss: 0.8553 - accuracy: 0.5597 - val_loss: 1.8978 - val_accuracy: 0.3271 - lr: 0.0010\n",
            "Epoch 17/100\n",
            "37/37 [==============================] - 23s 628ms/step - loss: 0.8881 - accuracy: 0.5401 - val_loss: 2.1661 - val_accuracy: 0.3271 - lr: 0.0010\n",
            "Epoch 18/100\n",
            "37/37 [==============================] - 24s 653ms/step - loss: 0.8572 - accuracy: 0.5640 - val_loss: 1.4476 - val_accuracy: 0.4299 - lr: 0.0010\n",
            "Epoch 19/100\n",
            "37/37 [==============================] - 24s 641ms/step - loss: 0.7863 - accuracy: 0.6084 - val_loss: 1.2847 - val_accuracy: 0.4159 - lr: 0.0010\n",
            "Epoch 20/100\n",
            "37/37 [==============================] - 24s 630ms/step - loss: 0.8571 - accuracy: 0.5751 - val_loss: 2.1427 - val_accuracy: 0.3224 - lr: 0.0010\n",
            "Epoch 21/100\n",
            "37/37 [==============================] - 25s 673ms/step - loss: 0.7887 - accuracy: 0.5973 - val_loss: 1.3019 - val_accuracy: 0.4766 - lr: 0.0010\n",
            "Epoch 22/100\n",
            "37/37 [==============================] - 24s 656ms/step - loss: 0.8570 - accuracy: 0.5580 - val_loss: 1.2203 - val_accuracy: 0.4953 - lr: 0.0010\n",
            "Epoch 23/100\n",
            "37/37 [==============================] - 24s 642ms/step - loss: 0.7877 - accuracy: 0.5964 - val_loss: 2.1104 - val_accuracy: 0.3879 - lr: 0.0010\n",
            "Epoch 24/100\n",
            "37/37 [==============================] - 24s 644ms/step - loss: 0.7165 - accuracy: 0.6451 - val_loss: 1.3044 - val_accuracy: 0.4953 - lr: 1.0000e-04\n",
            "Epoch 25/100\n",
            "37/37 [==============================] - 24s 645ms/step - loss: 0.6817 - accuracy: 0.6664 - val_loss: 0.9717 - val_accuracy: 0.5794 - lr: 1.0000e-04\n",
            "Epoch 26/100\n",
            "37/37 [==============================] - 24s 636ms/step - loss: 0.6537 - accuracy: 0.6664 - val_loss: 0.9234 - val_accuracy: 0.6075 - lr: 1.0000e-04\n",
            "Epoch 27/100\n",
            "37/37 [==============================] - 24s 655ms/step - loss: 0.6422 - accuracy: 0.6920 - val_loss: 0.9191 - val_accuracy: 0.6028 - lr: 1.0000e-04\n",
            "Epoch 28/100\n",
            "37/37 [==============================] - 24s 646ms/step - loss: 0.6311 - accuracy: 0.6809 - val_loss: 0.9262 - val_accuracy: 0.6215 - lr: 1.0000e-04\n",
            "Epoch 29/100\n",
            "37/37 [==============================] - 25s 669ms/step - loss: 0.5937 - accuracy: 0.7108 - val_loss: 0.9132 - val_accuracy: 0.5935 - lr: 1.0000e-04\n",
            "Epoch 30/100\n",
            "37/37 [==============================] - 24s 650ms/step - loss: 0.5832 - accuracy: 0.6980 - val_loss: 0.9490 - val_accuracy: 0.5841 - lr: 1.0000e-04\n",
            "Epoch 31/100\n",
            "37/37 [==============================] - 24s 649ms/step - loss: 0.5806 - accuracy: 0.7082 - val_loss: 0.9283 - val_accuracy: 0.6028 - lr: 1.0000e-04\n",
            "Epoch 32/100\n",
            "37/37 [==============================] - 24s 644ms/step - loss: 0.5915 - accuracy: 0.7073 - val_loss: 0.9110 - val_accuracy: 0.6028 - lr: 1.0000e-04\n",
            "Epoch 33/100\n",
            "37/37 [==============================] - 24s 641ms/step - loss: 0.5836 - accuracy: 0.7150 - val_loss: 0.9498 - val_accuracy: 0.6215 - lr: 1.0000e-04\n",
            "Epoch 34/100\n",
            "37/37 [==============================] - 24s 648ms/step - loss: 0.5434 - accuracy: 0.7235 - val_loss: 0.9642 - val_accuracy: 0.6215 - lr: 1.0000e-04\n",
            "Epoch 35/100\n",
            "37/37 [==============================] - 25s 673ms/step - loss: 0.5541 - accuracy: 0.7108 - val_loss: 0.9772 - val_accuracy: 0.5981 - lr: 1.0000e-04\n",
            "Epoch 36/100\n",
            "37/37 [==============================] - 24s 645ms/step - loss: 0.5272 - accuracy: 0.7372 - val_loss: 0.9847 - val_accuracy: 0.5888 - lr: 1.0000e-04\n",
            "Epoch 37/100\n",
            "37/37 [==============================] - 24s 652ms/step - loss: 0.5509 - accuracy: 0.7176 - val_loss: 0.9783 - val_accuracy: 0.6121 - lr: 1.0000e-04\n"
          ]
        }
      ],
      "source": [
        "model_ft.compile(\n",
        "    optimizer=\"adam\", loss=\"categorical_crossentropy\", metrics=[\"accuracy\"]\n",
        ")\n",
        "\n",
        "start_ft = timeit.default_timer()\n",
        "\n",
        "history = model_ft.fit(\n",
        "    train_generator,\n",
        "    epochs=epochs,\n",
        "    batch_size=batch_size,\n",
        "    callbacks=[early, plateau],\n",
        "    validation_data=valid_generator,\n",
        "    class_weight=train_class_weights,\n",
        "    verbose=1,\n",
        ")\n",
        "\n",
        "stop_ft = timeit.default_timer()"
      ]
    },
    {
      "cell_type": "code",
      "execution_count": 37,
      "id": "a2d56774",
      "metadata": {
        "colab": {
          "base_uri": "https://localhost:8080/"
        },
        "id": "a2d56774",
        "outputId": "69d23f2e-24fe-4602-c669-ab1d8281faa1"
      },
      "outputs": [
        {
          "output_type": "stream",
          "name": "stdout",
          "text": [
            "Model ResNet50 fine tuning executed in 19.69 minutes\n"
          ]
        }
      ],
      "source": [
        "execution_time_ft = (stop_ft - start_ft) / 60\n",
        "print(\n",
        "    f\"Model {model_name} fine tuning executed in {execution_time_ft:.2f} minutes\"\n",
        ")"
      ]
    },
    {
      "cell_type": "code",
      "execution_count": 38,
      "id": "2fd07109",
      "metadata": {
        "colab": {
          "base_uri": "https://localhost:8080/"
        },
        "id": "2fd07109",
        "outputId": "4fdf6487-ca90-40a6-e16e-356f3634ac3e"
      },
      "outputs": [
        {
          "output_type": "stream",
          "name": "stderr",
          "text": [
            "/usr/local/lib/python3.10/dist-packages/keras/src/engine/training.py:3103: UserWarning: You are saving your model as an HDF5 file via `model.save()`. This file format is considered legacy. We recommend using instead the native Keras format, e.g. `model.save('my_model.keras')`.\n",
            "  saving_api.save_model(\n"
          ]
        }
      ],
      "source": [
        "model_ft.save(save_model_ft)"
      ]
    },
    {
      "cell_type": "code",
      "execution_count": 39,
      "id": "4fe0615f",
      "metadata": {
        "colab": {
          "base_uri": "https://localhost:8080/",
          "height": 487
        },
        "id": "4fe0615f",
        "outputId": "755cfef7-8c22-41e3-ae95-261e5a0ce994"
      },
      "outputs": [
        {
          "output_type": "display_data",
          "data": {
            "text/plain": [
              "<Figure size 640x480 with 2 Axes>"
            ],
            "image/png": "[encoded data removed]"
          },
          "metadata": {}
        }
      ],
      "source": [
        "get_plot_loss_acc(model_ft, f\"{model_name} Fine Tuning\")"
      ]
    },
    {
      "cell_type": "code",
      "execution_count": 40,
      "id": "7c7eb400",
      "metadata": {
        "colab": {
          "base_uri": "https://localhost:8080/"
        },
        "id": "7c7eb400",
        "outputId": "c6e96d95-6a85-4322-c850-8cc0550d7eeb"
      },
      "outputs": [
        {
          "output_type": "stream",
          "name": "stdout",
          "text": [
            "7/7 [==============================] - 1s 122ms/step - loss: 0.9132 - accuracy: 0.5935\n",
            "Valid loss: 0.91\n",
            "Valid accuracy: 0.59\n"
          ]
        }
      ],
      "source": [
        "get_evaluate(valid_generator, \"Valid\", model_ft)"
      ]
    },
    {
      "cell_type": "code",
      "execution_count": 41,
      "id": "79d21a3f",
      "metadata": {
        "colab": {
          "base_uri": "https://localhost:8080/"
        },
        "id": "79d21a3f",
        "outputId": "5483ce8b-b683-4558-a876-d92140428233"
      },
      "outputs": [
        {
          "output_type": "stream",
          "name": "stdout",
          "text": [
            "7/7 [==============================] - 2s 115ms/step\n",
            "Accuracy Score - ResNet50: 0.59\n",
            "Balanced Accuracy Score - ResNet50: 0.62\n",
            "\n",
            "\n",
            "              precision    recall  f1-score   support\n",
            "\n",
            "           0       0.56      0.67      0.61        51\n",
            "           1       0.45      0.30      0.36        50\n",
            "           2       0.48      0.56      0.52        50\n",
            "           3       0.78      0.80      0.79        50\n",
            "           4       0.91      0.77      0.83        13\n",
            "\n",
            "    accuracy                           0.59       214\n",
            "   macro avg       0.64      0.62      0.62       214\n",
            "weighted avg       0.59      0.59      0.59       214\n",
            "\n"
          ]
        }
      ],
      "source": [
        "predict_model_ft = get_predict(valid_generator, model_ft)\n",
        "\n",
        "get_metrics(\n",
        "    valid_generator.labels,\n",
        "    y_pred=np.argmax(predict_model_ft, axis=1),\n",
        "    model_name=model_name,\n",
        ")"
      ]
    },
    {
      "cell_type": "code",
      "execution_count": 42,
      "id": "7d86872b",
      "metadata": {
        "colab": {
          "base_uri": "https://localhost:8080/",
          "height": 487
        },
        "id": "7d86872b",
        "outputId": "2a7c8d14-5b34-4963-f205-227997b1e73d"
      },
      "outputs": [
        {
          "output_type": "display_data",
          "data": {
            "text/plain": [
              "<Figure size 600x500 with 2 Axes>"
            ],
            "image/png": "[encoded data removed]"
          },
          "metadata": {}
        }
      ],
      "source": [
        "compute_confusion_matrix(\n",
        "    valid_generator, predict_model_ft, class_names, f\"{model_name} Fine Tuning\"\n",
        ")"
      ]
    },
    {
      "cell_type": "code",
      "execution_count": 43,
      "id": "1d3ac00b",
      "metadata": {
        "colab": {
          "base_uri": "https://localhost:8080/",
          "height": 356
        },
        "id": "1d3ac00b",
        "outputId": "c47eee2d-b427-49d0-b87a-f8b2f9da00a4"
      },
      "outputs": [
        {
          "output_type": "error",
          "ename": "OSError",
          "evalue": "No file or directory found at C:/Users/yuvas/models/model_ResNet50_ft.hdf5",
          "traceback": [
            "\u001b[0;31m---------------------------------------------------------------------------\u001b[0m",
            "\u001b[0;31mOSError\u001b[0m                                   Traceback (most recent call last)",
            "\u001b[0;32m<ipython-input-43-1b33ab49f931>\u001b[0m in \u001b[0;36m<cell line: 5>\u001b[0;34m()\u001b[0m\n\u001b[1;32m      3\u001b[0m \u001b[0;32mimport\u001b[0m \u001b[0mtensorflow\u001b[0m \u001b[0;32mas\u001b[0m \u001b[0mtf\u001b[0m\u001b[0;34m\u001b[0m\u001b[0;34m\u001b[0m\u001b[0m\n\u001b[1;32m      4\u001b[0m \u001b[0;32mfrom\u001b[0m \u001b[0mtensorflow\u001b[0m\u001b[0;34m.\u001b[0m\u001b[0mkeras\u001b[0m\u001b[0;34m.\u001b[0m\u001b[0mmetrics\u001b[0m \u001b[0;32mimport\u001b[0m \u001b[0mAccuracy\u001b[0m\u001b[0;34m\u001b[0m\u001b[0;34m\u001b[0m\u001b[0m\n\u001b[0;32m----> 5\u001b[0;31m \u001b[0mmodel_1\u001b[0m \u001b[0;34m=\u001b[0m \u001b[0mload_model\u001b[0m\u001b[0;34m(\u001b[0m\u001b[0;34m\"C:/Users/yuvas/models/model_ResNet50_ft.hdf5\"\u001b[0m\u001b[0;34m)\u001b[0m\u001b[0;34m\u001b[0m\u001b[0;34m\u001b[0m\u001b[0m\n\u001b[0m\u001b[1;32m      6\u001b[0m model_1 = Model(inputs=model_1.inputs,\n\u001b[1;32m      7\u001b[0m                 \u001b[0moutputs\u001b[0m\u001b[0;34m=\u001b[0m\u001b[0mmodel_1\u001b[0m\u001b[0;34m.\u001b[0m\u001b[0moutputs\u001b[0m\u001b[0;34m,\u001b[0m\u001b[0;34m\u001b[0m\u001b[0;34m\u001b[0m\u001b[0m\n",
            "\u001b[0;32m/usr/local/lib/python3.10/dist-packages/keras/src/saving/saving_api.py\u001b[0m in \u001b[0;36mload_model\u001b[0;34m(filepath, custom_objects, compile, safe_mode, **kwargs)\u001b[0m\n\u001b[1;32m    260\u001b[0m \u001b[0;34m\u001b[0m\u001b[0m\n\u001b[1;32m    261\u001b[0m     \u001b[0;31m# Legacy case.\u001b[0m\u001b[0;34m\u001b[0m\u001b[0;34m\u001b[0m\u001b[0m\n\u001b[0;32m--> 262\u001b[0;31m     return legacy_sm_saving_lib.load_model(\n\u001b[0m\u001b[1;32m    263\u001b[0m         \u001b[0mfilepath\u001b[0m\u001b[0;34m,\u001b[0m \u001b[0mcustom_objects\u001b[0m\u001b[0;34m=\u001b[0m\u001b[0mcustom_objects\u001b[0m\u001b[0;34m,\u001b[0m \u001b[0mcompile\u001b[0m\u001b[0;34m=\u001b[0m\u001b[0mcompile\u001b[0m\u001b[0;34m,\u001b[0m \u001b[0;34m**\u001b[0m\u001b[0mkwargs\u001b[0m\u001b[0;34m\u001b[0m\u001b[0;34m\u001b[0m\u001b[0m\n\u001b[1;32m    264\u001b[0m     )\n",
            "\u001b[0;32m/usr/local/lib/python3.10/dist-packages/keras/src/utils/traceback_utils.py\u001b[0m in \u001b[0;36merror_handler\u001b[0;34m(*args, **kwargs)\u001b[0m\n\u001b[1;32m     68\u001b[0m             \u001b[0;31m# To get the full stack trace, call:\u001b[0m\u001b[0;34m\u001b[0m\u001b[0;34m\u001b[0m\u001b[0m\n\u001b[1;32m     69\u001b[0m             \u001b[0;31m# `tf.debugging.disable_traceback_filtering()`\u001b[0m\u001b[0;34m\u001b[0m\u001b[0;34m\u001b[0m\u001b[0m\n\u001b[0;32m---> 70\u001b[0;31m             \u001b[0;32mraise\u001b[0m \u001b[0me\u001b[0m\u001b[0;34m.\u001b[0m\u001b[0mwith_traceback\u001b[0m\u001b[0;34m(\u001b[0m\u001b[0mfiltered_tb\u001b[0m\u001b[0;34m)\u001b[0m \u001b[0;32mfrom\u001b[0m \u001b[0;32mNone\u001b[0m\u001b[0;34m\u001b[0m\u001b[0;34m\u001b[0m\u001b[0m\n\u001b[0m\u001b[1;32m     71\u001b[0m         \u001b[0;32mfinally\u001b[0m\u001b[0;34m:\u001b[0m\u001b[0;34m\u001b[0m\u001b[0;34m\u001b[0m\u001b[0m\n\u001b[1;32m     72\u001b[0m             \u001b[0;32mdel\u001b[0m \u001b[0mfiltered_tb\u001b[0m\u001b[0;34m\u001b[0m\u001b[0;34m\u001b[0m\u001b[0m\n",
            "\u001b[0;32m/usr/local/lib/python3.10/dist-packages/keras/src/saving/legacy/save.py\u001b[0m in \u001b[0;36mload_model\u001b[0;34m(filepath, custom_objects, compile, options)\u001b[0m\n\u001b[1;32m    232\u001b[0m                     \u001b[0;32mif\u001b[0m \u001b[0misinstance\u001b[0m\u001b[0;34m(\u001b[0m\u001b[0mfilepath_str\u001b[0m\u001b[0;34m,\u001b[0m \u001b[0mstr\u001b[0m\u001b[0;34m)\u001b[0m\u001b[0;34m:\u001b[0m\u001b[0;34m\u001b[0m\u001b[0;34m\u001b[0m\u001b[0m\n\u001b[1;32m    233\u001b[0m                         \u001b[0;32mif\u001b[0m \u001b[0;32mnot\u001b[0m \u001b[0mtf\u001b[0m\u001b[0;34m.\u001b[0m\u001b[0mio\u001b[0m\u001b[0;34m.\u001b[0m\u001b[0mgfile\u001b[0m\u001b[0;34m.\u001b[0m\u001b[0mexists\u001b[0m\u001b[0;34m(\u001b[0m\u001b[0mfilepath_str\u001b[0m\u001b[0;34m)\u001b[0m\u001b[0;34m:\u001b[0m\u001b[0;34m\u001b[0m\u001b[0;34m\u001b[0m\u001b[0m\n\u001b[0;32m--> 234\u001b[0;31m                             raise IOError(\n\u001b[0m\u001b[1;32m    235\u001b[0m                                 \u001b[0;34mf\"No file or directory found at {filepath_str}\"\u001b[0m\u001b[0;34m\u001b[0m\u001b[0;34m\u001b[0m\u001b[0m\n\u001b[1;32m    236\u001b[0m                             )\n",
            "\u001b[0;31mOSError\u001b[0m: No file or directory found at C:/Users/yuvas/models/model_ResNet50_ft.hdf5"
          ]
        }
      ],
      "source": [
        "from tensorflow.keras.models import Model, load_model\n",
        "from tensorflow.keras.layers import Input, Average\n",
        "import tensorflow as tf\n",
        "from tensorflow.keras.metrics import Accuracy\n",
        "model_1 = load_model(\"C:/Users/yuvas/models/model_ResNet50_ft.hdf5\")\n",
        "model_1 = Model(inputs=model_1.inputs,\n",
        "                outputs=model_1.outputs,\n",
        "                name='name_of_model_1')\n",
        "model_2 = load_model(\"C:/Users/yuvas/models/model_Xception_ft.hdf5\")\n",
        "model_2 = Model(inputs=model_2.inputs,\n",
        "                outputs=model_2.outputs,\n",
        "                name='name_of_model_2')\n",
        "model_3 = load_model(\"C:/Users/yuvas/models/model_Inception ResNet V2_ft.hdf5\")\n",
        "model_3 = Model(inputs=model_3.inputs,\n",
        "                outputs=model_3.outputs,\n",
        "                name='name_of_model_3')\n",
        "models = [model_1, model_2,model_3]\n",
        "model_input = Input(shape=(224, 224, 3))\n",
        "model_outputs = [model(model_input) for model in models]\n",
        "ensemble_output = Average()(model_outputs)\n",
        "ensemble_model = Model(inputs=model_input, outputs=ensemble_output, name='ensemble')"
      ]
    },
    {
      "cell_type": "code",
      "execution_count": null,
      "id": "28556855",
      "metadata": {
        "id": "28556855"
      },
      "outputs": [],
      "source": [
        "ensemble_model.compile(optimizer=\"adam\", loss= tf.losses.SparseCategoricalCrossentropy(from_logits=False),metrics=['accuracy'])"
      ]
    },
    {
      "cell_type": "code",
      "execution_count": null,
      "id": "3077397e",
      "metadata": {
        "id": "3077397e"
      },
      "outputs": [],
      "source": [
        "import pathlib\n",
        "data_dir = pathlib.Path(\"C:/Users/yuvas/Downloads/kneedataset\")\n",
        "img_height=224\n",
        "img_width=224"
      ]
    },
    {
      "cell_type": "code",
      "execution_count": null,
      "id": "46f0f3bb",
      "metadata": {
        "id": "46f0f3bb"
      },
      "outputs": [],
      "source": [
        "train_ds = tf.keras.utils.image_dataset_from_directory(\n",
        "data_dir,\n",
        "validation_split=0.2,\n",
        "subset=\"training\",\n",
        "seed=123,\n",
        "image_size=(img_height, img_width),\n",
        "batch_size=23 )"
      ]
    },
    {
      "cell_type": "code",
      "execution_count": null,
      "id": "2e0abf50",
      "metadata": {
        "id": "2e0abf50"
      },
      "outputs": [],
      "source": [
        "val_ds = tf.keras.utils.image_dataset_from_directory(\n",
        "data_dir,\n",
        "validation_split=0.2,\n",
        "subset=\"validation\",\n",
        "seed=123,\n",
        "image_size=(img_height, img_width),\n",
        "batch_size=23 )"
      ]
    },
    {
      "cell_type": "code",
      "execution_count": null,
      "id": "3a6d5edd",
      "metadata": {
        "id": "3a6d5edd"
      },
      "outputs": [],
      "source": [
        "history = ensemble_model.fit(\n",
        "train_ds,\n",
        "validation_data=val_ds,\n",
        "epochs=20\n",
        ")"
      ]
    },
    {
      "cell_type": "code",
      "execution_count": null,
      "id": "400ddb4d",
      "metadata": {
        "id": "400ddb4d"
      },
      "outputs": [],
      "source": []
    }
  ],
  "metadata": {
    "kernelspec": {
      "display_name": "Python 3",
      "name": "python3"
    },
    "language_info": {
      "codemirror_mode": {
        "name": "ipython",
        "version": 3
      },
      "file_extension": ".py",
      "mimetype": "text/x-python",
      "name": "python",
      "nbconvert_exporter": "python",
      "pygments_lexer": "ipython3",
      "version": "3.7.16"
    },
    "colab": {
      "provenance": [],
      "gpuType": "T4",
      "include_colab_link": true
    },
    "accelerator": "GPU"
  },
  "nbformat": 4,
  "nbformat_minor": 5
}