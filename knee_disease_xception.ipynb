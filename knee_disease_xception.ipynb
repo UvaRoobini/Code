{
  "cells": [
    {
      "cell_type": "markdown",
      "metadata": {
        "id": "view-in-github",
        "colab_type": "text"
      },
      "source": [
        "<a href=\"https://colab.research.google.com/github/UvaRoobini/CSE/blob/main/knee_disease_xception.ipynb\" target=\"_parent\"><img src=\"https://colab.research.google.com/assets/colab-badge.svg\" alt=\"Open In Colab\"/></a>"
      ]
    },
    {
      "cell_type": "code",
      "execution_count": 2,
      "metadata": {
        "id": "7f140046"
      },
      "outputs": [],
      "source": [
        "import os\n",
        "import timeit\n",
        "\n",
        "import matplotlib.pyplot as plt\n",
        "import numpy as np\n",
        "import seaborn as sns\n",
        "import tensorflow as tf\n",
        "from sklearn.metrics import (accuracy_score, balanced_accuracy_score,\n",
        "                             classification_report, confusion_matrix)\n",
        "from sklearn.utils.class_weight import compute_class_weight"
      ],
      "id": "7f140046"
    },
    {
      "cell_type": "code",
      "execution_count": 3,
      "metadata": {
        "id": "9221f0ad"
      },
      "outputs": [],
      "source": [
        "np.random.seed(12049)"
      ],
      "id": "9221f0ad"
    },
    {
      "cell_type": "code",
      "execution_count": 4,
      "metadata": {
        "id": "08a946a0"
      },
      "outputs": [],
      "source": [
        "def get_plot_loss_acc(model, model_name):\n",
        "    fig = plt.figure()\n",
        "    plt.subplot(2, 1, 1)\n",
        "    plt.plot(model.history.history[\"loss\"])\n",
        "    plt.plot(model.history.history[\"val_loss\"])\n",
        "    plt.title(f\"{model_name} \\n\\n model loss\")\n",
        "    plt.ylabel(\"loss\")\n",
        "    plt.xlabel(\"epoch\")\n",
        "    plt.legend([\"train\", \"valid\"], loc=\"upper right\")\n",
        "\n",
        "    plt.subplot(2, 1, 2)\n",
        "    plt.plot(model.history.history[\"accuracy\"])\n",
        "    plt.plot(model.history.history[\"val_accuracy\"])\n",
        "    plt.title(\"model accuracy\")\n",
        "    plt.ylabel(\"accuracy\")\n",
        "    plt.xlabel(\"epoch\")\n",
        "    plt.legend([\"train\", \"valid\"], loc=\"lower right\")\n",
        "\n",
        "    plt.tight_layout()\n",
        "\n",
        "\n",
        "def compute_confusion_matrix(\n",
        "    ytrue, ypred, class_names, model_name\n",
        "):\n",
        "    cm = confusion_matrix(\n",
        "        y_true=ytrue.labels,\n",
        "        y_pred=np.argmax(ypred, axis=1),\n",
        "    )\n",
        "\n",
        "    cmn = cm.astype(\"float\") / cm.sum(axis=1)[:, np.newaxis]\n",
        "    plt.subplots(figsize=(6, 5))\n",
        "    sns.heatmap(\n",
        "        cmn,\n",
        "        annot=True,\n",
        "        fmt=\".2f\",\n",
        "        cmap=\"Purples\",\n",
        "        xticklabels=class_names,\n",
        "        yticklabels=class_names,\n",
        "    )\n",
        "    plt.title(f\"Confusion Matrix - {model_name}\")\n",
        "    plt.ylabel(\"Actual\")\n",
        "    plt.xlabel(\"Predicted\")\n",
        "    plt.show(block=False)\n",
        "\n",
        "\n",
        "def get_evaluate(data, name, model):\n",
        "    score_model = model.evaluate(data, verbose=1)\n",
        "    print(f\"{name} loss: {score_model[0]:.2f}\")\n",
        "    print(f\"{name} accuracy: {score_model[1]:.2f}\")\n",
        "\n",
        "\n",
        "def get_predict(data, model):\n",
        "    predict_model = model.predict(data)\n",
        "    return predict_model\n",
        "\n",
        "\n",
        "def get_metrics(y_test, y_pred, model_name):\n",
        "    acc = accuracy_score(y_test, y_pred)\n",
        "    bal_acc = balanced_accuracy_score(y_test, y_pred)\n",
        "\n",
        "    print(f\"Accuracy Score - {model_name}: {acc:.2f}\")\n",
        "    print(f\"Balanced Accuracy Score - {model_name}: {bal_acc:.2f}\")\n",
        "    print(\"\\n\")\n",
        "\n",
        "    print(classification_report(y_test, y_pred))"
      ],
      "id": "08a946a0"
    },
    {
      "cell_type": "code",
      "execution_count": 5,
      "metadata": {
        "id": "09b36cf3"
      },
      "outputs": [],
      "source": [
        "base_dir = \"/content/kneedataset\"\n",
        "train_path = os.path.join(base_dir, 'train')\n",
        "valid_path = os.path.join(base_dir, 'val')\n",
        "test_path = os.path.join(base_dir, 'test')"
      ],
      "id": "09b36cf3"
    },
    {
      "cell_type": "code",
      "execution_count": 6,
      "metadata": {
        "id": "3f9636f5"
      },
      "outputs": [],
      "source": [
        "model_name = \"Xception\"\n",
        "class_names = ['Healthy', 'Doubtful', 'Minimal', 'Moderate', 'Severe']\n",
        "\n",
        "target_size = (224, 224)\n",
        "epochs = 100\n",
        "batch_size = 256\n",
        "img_shape = (224, 224, 3)\n",
        "\n",
        "# Save model\n",
        "save_model_ft = os.path.join('H:\\Xception', f'Xception_model.hdf5')"
      ],
      "id": "3f9636f5"
    },
    {
      "cell_type": "code",
      "execution_count": 9,
      "metadata": {
        "colab": {
          "base_uri": "https://localhost:8080/"
        },
        "id": "J1TBMnKckcKZ",
        "outputId": "eed974c5-3ea3-49bf-d3f6-5f28c3d16279"
      },
      "outputs": [
        {
          "output_type": "stream",
          "name": "stdout",
          "text": [
            "Cloning into 'kneedataset'...\n",
            "remote: Enumerating objects: 5504, done.\u001b[K\n",
            "remote: Counting objects: 100% (29/29), done.\u001b[K\n",
            "remote: Compressing objects: 100% (29/29), done.\u001b[K\n",
            "remote: Total 5504 (delta 0), reused 9 (delta 0), pack-reused 5475\u001b[K\n",
            "Receiving objects: 100% (5504/5504), 112.67 MiB | 35.72 MiB/s, done.\n"
          ]
        }
      ],
      "source": [
        "!git clone https://github.com/UvaRoobini/kneedataset.git\n"
      ],
      "id": "J1TBMnKckcKZ"
    },
    {
      "cell_type": "code",
      "execution_count": 7,
      "metadata": {
        "id": "d41229c4"
      },
      "outputs": [],
      "source": [
        "aug_datagen = tf.keras.preprocessing.image.ImageDataGenerator(\n",
        "    preprocessing_function=tf.keras.applications.xception.preprocess_input,\n",
        "    horizontal_flip=True,\n",
        "    brightness_range=[0.3, 0.8],\n",
        "    width_shift_range=[-50, 0, 50, 30, -30],\n",
        "    zoom_range=0.1,\n",
        "    fill_mode=\"nearest\",\n",
        ")\n",
        "\n",
        "noaug_datagen = tf.keras.preprocessing.image.ImageDataGenerator(\n",
        "    preprocessing_function=tf.keras.applications.xception.preprocess_input,\n",
        ")"
      ],
      "id": "d41229c4"
    },
    {
      "cell_type": "code",
      "execution_count": 10,
      "metadata": {
        "colab": {
          "base_uri": "https://localhost:8080/"
        },
        "id": "b1f7781c",
        "outputId": "966e3922-92e9-482d-d141-2c07b3f9c805"
      },
      "outputs": [
        {
          "output_type": "stream",
          "name": "stdout",
          "text": [
            "Found 1172 images belonging to 5 classes.\n",
            "Found 214 images belonging to 5 classes.\n"
          ]
        }
      ],
      "source": [
        "train_generator = aug_datagen.flow_from_directory(\n",
        "    train_path, class_mode=\"categorical\", target_size=target_size, shuffle=True\n",
        ")\n",
        "\n",
        "valid_generator = noaug_datagen.flow_from_directory(\n",
        "    valid_path,\n",
        "    class_mode=\"categorical\",\n",
        "    target_size=target_size,\n",
        "    shuffle=False,\n",
        ")"
      ],
      "id": "b1f7781c"
    },
    {
      "cell_type": "code",
      "execution_count": 11,
      "metadata": {
        "colab": {
          "base_uri": "https://localhost:8080/",
          "height": 304
        },
        "id": "AlCxr7UWQowR",
        "outputId": "d632cff6-d0a2-472d-f82a-88e5a864f71e"
      },
      "outputs": [
        {
          "output_type": "error",
          "ename": "MessageError",
          "evalue": "Error: credential propagation was unsuccessful",
          "traceback": [
            "\u001b[0;31m---------------------------------------------------------------------------\u001b[0m",
            "\u001b[0;31mMessageError\u001b[0m                              Traceback (most recent call last)",
            "\u001b[0;32m<ipython-input-11-d5df0069828e>\u001b[0m in \u001b[0;36m<cell line: 2>\u001b[0;34m()\u001b[0m\n\u001b[1;32m      1\u001b[0m \u001b[0;32mfrom\u001b[0m \u001b[0mgoogle\u001b[0m\u001b[0;34m.\u001b[0m\u001b[0mcolab\u001b[0m \u001b[0;32mimport\u001b[0m \u001b[0mdrive\u001b[0m\u001b[0;34m\u001b[0m\u001b[0;34m\u001b[0m\u001b[0m\n\u001b[0;32m----> 2\u001b[0;31m \u001b[0mdrive\u001b[0m\u001b[0;34m.\u001b[0m\u001b[0mmount\u001b[0m\u001b[0;34m(\u001b[0m\u001b[0;34m'/content/drive'\u001b[0m\u001b[0;34m)\u001b[0m\u001b[0;34m\u001b[0m\u001b[0;34m\u001b[0m\u001b[0m\n\u001b[0m",
            "\u001b[0;32m/usr/local/lib/python3.10/dist-packages/google/colab/drive.py\u001b[0m in \u001b[0;36mmount\u001b[0;34m(mountpoint, force_remount, timeout_ms, readonly)\u001b[0m\n\u001b[1;32m     98\u001b[0m \u001b[0;32mdef\u001b[0m \u001b[0mmount\u001b[0m\u001b[0;34m(\u001b[0m\u001b[0mmountpoint\u001b[0m\u001b[0;34m,\u001b[0m \u001b[0mforce_remount\u001b[0m\u001b[0;34m=\u001b[0m\u001b[0;32mFalse\u001b[0m\u001b[0;34m,\u001b[0m \u001b[0mtimeout_ms\u001b[0m\u001b[0;34m=\u001b[0m\u001b[0;36m120000\u001b[0m\u001b[0;34m,\u001b[0m \u001b[0mreadonly\u001b[0m\u001b[0;34m=\u001b[0m\u001b[0;32mFalse\u001b[0m\u001b[0;34m)\u001b[0m\u001b[0;34m:\u001b[0m\u001b[0;34m\u001b[0m\u001b[0;34m\u001b[0m\u001b[0m\n\u001b[1;32m     99\u001b[0m   \u001b[0;34m\"\"\"Mount your Google Drive at the specified mountpoint path.\"\"\"\u001b[0m\u001b[0;34m\u001b[0m\u001b[0;34m\u001b[0m\u001b[0m\n\u001b[0;32m--> 100\u001b[0;31m   return _mount(\n\u001b[0m\u001b[1;32m    101\u001b[0m       \u001b[0mmountpoint\u001b[0m\u001b[0;34m,\u001b[0m\u001b[0;34m\u001b[0m\u001b[0;34m\u001b[0m\u001b[0m\n\u001b[1;32m    102\u001b[0m       \u001b[0mforce_remount\u001b[0m\u001b[0;34m=\u001b[0m\u001b[0mforce_remount\u001b[0m\u001b[0;34m,\u001b[0m\u001b[0;34m\u001b[0m\u001b[0;34m\u001b[0m\u001b[0m\n",
            "\u001b[0;32m/usr/local/lib/python3.10/dist-packages/google/colab/drive.py\u001b[0m in \u001b[0;36m_mount\u001b[0;34m(mountpoint, force_remount, timeout_ms, ephemeral, readonly)\u001b[0m\n\u001b[1;32m    131\u001b[0m   )\n\u001b[1;32m    132\u001b[0m   \u001b[0;32mif\u001b[0m \u001b[0mephemeral\u001b[0m\u001b[0;34m:\u001b[0m\u001b[0;34m\u001b[0m\u001b[0;34m\u001b[0m\u001b[0m\n\u001b[0;32m--> 133\u001b[0;31m     _message.blocking_request(\n\u001b[0m\u001b[1;32m    134\u001b[0m         \u001b[0;34m'request_auth'\u001b[0m\u001b[0;34m,\u001b[0m \u001b[0mrequest\u001b[0m\u001b[0;34m=\u001b[0m\u001b[0;34m{\u001b[0m\u001b[0;34m'authType'\u001b[0m\u001b[0;34m:\u001b[0m \u001b[0;34m'dfs_ephemeral'\u001b[0m\u001b[0;34m}\u001b[0m\u001b[0;34m,\u001b[0m \u001b[0mtimeout_sec\u001b[0m\u001b[0;34m=\u001b[0m\u001b[0;32mNone\u001b[0m\u001b[0;34m\u001b[0m\u001b[0;34m\u001b[0m\u001b[0m\n\u001b[1;32m    135\u001b[0m     )\n",
            "\u001b[0;32m/usr/local/lib/python3.10/dist-packages/google/colab/_message.py\u001b[0m in \u001b[0;36mblocking_request\u001b[0;34m(request_type, request, timeout_sec, parent)\u001b[0m\n\u001b[1;32m    174\u001b[0m       \u001b[0mrequest_type\u001b[0m\u001b[0;34m,\u001b[0m \u001b[0mrequest\u001b[0m\u001b[0;34m,\u001b[0m \u001b[0mparent\u001b[0m\u001b[0;34m=\u001b[0m\u001b[0mparent\u001b[0m\u001b[0;34m,\u001b[0m \u001b[0mexpect_reply\u001b[0m\u001b[0;34m=\u001b[0m\u001b[0;32mTrue\u001b[0m\u001b[0;34m\u001b[0m\u001b[0;34m\u001b[0m\u001b[0m\n\u001b[1;32m    175\u001b[0m   )\n\u001b[0;32m--> 176\u001b[0;31m   \u001b[0;32mreturn\u001b[0m \u001b[0mread_reply_from_input\u001b[0m\u001b[0;34m(\u001b[0m\u001b[0mrequest_id\u001b[0m\u001b[0;34m,\u001b[0m \u001b[0mtimeout_sec\u001b[0m\u001b[0;34m)\u001b[0m\u001b[0;34m\u001b[0m\u001b[0;34m\u001b[0m\u001b[0m\n\u001b[0m",
            "\u001b[0;32m/usr/local/lib/python3.10/dist-packages/google/colab/_message.py\u001b[0m in \u001b[0;36mread_reply_from_input\u001b[0;34m(message_id, timeout_sec)\u001b[0m\n\u001b[1;32m    101\u001b[0m     ):\n\u001b[1;32m    102\u001b[0m       \u001b[0;32mif\u001b[0m \u001b[0;34m'error'\u001b[0m \u001b[0;32min\u001b[0m \u001b[0mreply\u001b[0m\u001b[0;34m:\u001b[0m\u001b[0;34m\u001b[0m\u001b[0;34m\u001b[0m\u001b[0m\n\u001b[0;32m--> 103\u001b[0;31m         \u001b[0;32mraise\u001b[0m \u001b[0mMessageError\u001b[0m\u001b[0;34m(\u001b[0m\u001b[0mreply\u001b[0m\u001b[0;34m[\u001b[0m\u001b[0;34m'error'\u001b[0m\u001b[0;34m]\u001b[0m\u001b[0;34m)\u001b[0m\u001b[0;34m\u001b[0m\u001b[0;34m\u001b[0m\u001b[0m\n\u001b[0m\u001b[1;32m    104\u001b[0m       \u001b[0;32mreturn\u001b[0m \u001b[0mreply\u001b[0m\u001b[0;34m.\u001b[0m\u001b[0mget\u001b[0m\u001b[0;34m(\u001b[0m\u001b[0;34m'data'\u001b[0m\u001b[0;34m,\u001b[0m \u001b[0;32mNone\u001b[0m\u001b[0;34m)\u001b[0m\u001b[0;34m\u001b[0m\u001b[0;34m\u001b[0m\u001b[0m\n\u001b[1;32m    105\u001b[0m \u001b[0;34m\u001b[0m\u001b[0m\n",
            "\u001b[0;31mMessageError\u001b[0m: Error: credential propagation was unsuccessful"
          ]
        }
      ],
      "source": [
        "from google.colab import drive\n",
        "drive.mount('/content/drive')"
      ],
      "id": "AlCxr7UWQowR"
    },
    {
      "cell_type": "code",
      "execution_count": 12,
      "metadata": {
        "id": "4172cc84"
      },
      "outputs": [],
      "source": [
        "y_train = train_generator.labels\n",
        "y_val = valid_generator.labels"
      ],
      "id": "4172cc84"
    },
    {
      "cell_type": "code",
      "execution_count": 13,
      "metadata": {
        "colab": {
          "base_uri": "https://localhost:8080/"
        },
        "id": "7ca1c39d",
        "outputId": "eef6a730-5e28-4c8f-e4f5-40802d82a240"
      },
      "outputs": [
        {
          "output_type": "stream",
          "name": "stdout",
          "text": [
            "Train:  {0: 275, 1: 275, 2: 275, 3: 275, 4: 72}\n",
            "{0: 0.8523636363636363, 1: 0.8523636363636363, 2: 0.8523636363636363, 3: 0.8523636363636363, 4: 3.2555555555555555}\n"
          ]
        }
      ],
      "source": [
        "unique, counts = np.unique(y_train, return_counts=True)\n",
        "print(\"Train: \", dict(zip(unique, counts)))\n",
        "\n",
        "class_weights = compute_class_weight(\n",
        "    class_weight=\"balanced\", classes=np.unique(y_train), y=y_train\n",
        ")\n",
        "train_class_weights = dict(enumerate(class_weights))\n",
        "print(train_class_weights)"
      ],
      "id": "7ca1c39d"
    },
    {
      "cell_type": "code",
      "execution_count": 14,
      "metadata": {
        "id": "97405b34"
      },
      "outputs": [],
      "source": [
        "classes = np.unique(y_train)\n",
        "\n",
        "# Callbacks\n",
        "early = tf.keras.callbacks.EarlyStopping(\n",
        "            monitor='val_loss', min_delta=0.01, patience=8,\n",
        "            restore_best_weights=True\n",
        "        )\n",
        "plateau = tf.keras.callbacks.ReduceLROnPlateau(\n",
        "                monitor='loss', factor=0.1, min_delta=0.01,\n",
        "                min_lr=1e-10, patience=4, mode='auto'\n",
        "            )"
      ],
      "id": "97405b34"
    },
    {
      "cell_type": "code",
      "execution_count": 15,
      "metadata": {
        "colab": {
          "base_uri": "https://localhost:8080/"
        },
        "id": "d1bc6491",
        "outputId": "72d01370-147c-4572-dcaa-f25289469b9a"
      },
      "outputs": [
        {
          "output_type": "stream",
          "name": "stdout",
          "text": [
            "Downloading data from https://storage.googleapis.com/tensorflow/keras-applications/xception/xception_weights_tf_dim_ordering_tf_kernels_notop.h5\n",
            "83683744/83683744 [==============================] - 0s 0us/step\n"
          ]
        }
      ],
      "source": [
        "model = tf.keras.applications.xception.Xception(\n",
        "    input_shape=(img_shape),\n",
        "    include_top=False,\n",
        "    weights=\"imagenet\",\n",
        ")"
      ],
      "id": "d1bc6491"
    },
    {
      "cell_type": "code",
      "execution_count": 16,
      "metadata": {
        "colab": {
          "base_uri": "https://localhost:8080/"
        },
        "id": "16ca5b36",
        "outputId": "56be33fc-8b95-40c7-925b-bc304e877da1"
      },
      "outputs": [
        {
          "output_type": "stream",
          "name": "stdout",
          "text": [
            "Model: \"sequential\"\n",
            "_________________________________________________________________\n",
            " Layer (type)                Output Shape              Param #   \n",
            "=================================================================\n",
            " xception (Functional)       (None, 7, 7, 2048)        20861480  \n",
            "                                                                 \n",
            " global_average_pooling2d (  (None, 2048)              0         \n",
            " GlobalAveragePooling2D)                                         \n",
            "                                                                 \n",
            " dropout (Dropout)           (None, 2048)              0         \n",
            "                                                                 \n",
            " dense (Dense)               (None, 5)                 10245     \n",
            "                                                                 \n",
            "=================================================================\n",
            "Total params: 20871725 (79.62 MB)\n",
            "Trainable params: 20817197 (79.41 MB)\n",
            "Non-trainable params: 54528 (213.00 KB)\n",
            "_________________________________________________________________\n"
          ]
        }
      ],
      "source": [
        "for layer in model.layers:\n",
        "    layer.trainable = True\n",
        "\n",
        "model_ft = tf.keras.models.Sequential(\n",
        "    [\n",
        "        model,\n",
        "        tf.keras.layers.GlobalAveragePooling2D(),\n",
        "        tf.keras.layers.Dropout(0.2),\n",
        "        tf.keras.layers.Dense(5, activation=\"softmax\"),\n",
        "    ]\n",
        ")\n",
        "\n",
        "model_ft.summary()"
      ],
      "id": "16ca5b36"
    },
    {
      "cell_type": "code",
      "execution_count": 17,
      "metadata": {
        "colab": {
          "base_uri": "https://localhost:8080/"
        },
        "id": "6ce9694d",
        "outputId": "7604e6f3-d5a0-45b2-e863-a5211933ad79"
      },
      "outputs": [
        {
          "output_type": "stream",
          "name": "stdout",
          "text": [
            "Epoch 1/100\n",
            "37/37 [==============================] - 65s 787ms/step - loss: 1.6104 - accuracy: 0.2432 - val_loss: 1.5643 - val_accuracy: 0.2383 - lr: 0.0010\n",
            "Epoch 2/100\n",
            "37/37 [==============================] - 25s 657ms/step - loss: 1.5847 - accuracy: 0.2432 - val_loss: 27.4520 - val_accuracy: 0.2430 - lr: 0.0010\n",
            "Epoch 3/100\n",
            "37/37 [==============================] - 25s 665ms/step - loss: 1.3242 - accuracy: 0.3311 - val_loss: 174.2618 - val_accuracy: 0.2383 - lr: 0.0010\n",
            "Epoch 4/100\n",
            "37/37 [==============================] - 25s 663ms/step - loss: 1.0621 - accuracy: 0.4744 - val_loss: 69.6249 - val_accuracy: 0.2570 - lr: 0.0010\n",
            "Epoch 5/100\n",
            "37/37 [==============================] - 25s 673ms/step - loss: 0.9476 - accuracy: 0.5290 - val_loss: 85.9878 - val_accuracy: 0.2617 - lr: 0.0010\n",
            "Epoch 6/100\n",
            "37/37 [==============================] - 25s 672ms/step - loss: 0.9132 - accuracy: 0.5427 - val_loss: 4.7887 - val_accuracy: 0.3318 - lr: 0.0010\n",
            "Epoch 7/100\n",
            "37/37 [==============================] - 25s 665ms/step - loss: 0.8660 - accuracy: 0.5674 - val_loss: 10.4224 - val_accuracy: 0.2850 - lr: 0.0010\n",
            "Epoch 8/100\n",
            "37/37 [==============================] - 25s 676ms/step - loss: 0.8140 - accuracy: 0.5666 - val_loss: 6.6552 - val_accuracy: 0.3178 - lr: 0.0010\n",
            "Epoch 9/100\n",
            "37/37 [==============================] - 25s 669ms/step - loss: 0.7400 - accuracy: 0.6152 - val_loss: 1.1896 - val_accuracy: 0.5794 - lr: 0.0010\n",
            "Epoch 10/100\n",
            "37/37 [==============================] - 25s 662ms/step - loss: 0.7214 - accuracy: 0.6263 - val_loss: 3.8437 - val_accuracy: 0.3598 - lr: 0.0010\n",
            "Epoch 11/100\n",
            "37/37 [==============================] - 25s 680ms/step - loss: 0.6713 - accuracy: 0.6672 - val_loss: 5.1844 - val_accuracy: 0.3458 - lr: 0.0010\n",
            "Epoch 12/100\n",
            "37/37 [==============================] - 25s 666ms/step - loss: 0.6848 - accuracy: 0.6604 - val_loss: 1.8270 - val_accuracy: 0.3785 - lr: 0.0010\n",
            "Epoch 13/100\n",
            "37/37 [==============================] - 26s 701ms/step - loss: 0.6980 - accuracy: 0.6621 - val_loss: 2.3280 - val_accuracy: 0.4439 - lr: 0.0010\n",
            "Epoch 14/100\n",
            "37/37 [==============================] - 25s 665ms/step - loss: 0.5962 - accuracy: 0.6962 - val_loss: 2.4142 - val_accuracy: 0.4720 - lr: 0.0010\n",
            "Epoch 15/100\n",
            "37/37 [==============================] - 25s 660ms/step - loss: 0.5800 - accuracy: 0.7133 - val_loss: 2.7615 - val_accuracy: 0.4065 - lr: 0.0010\n",
            "Epoch 16/100\n",
            "37/37 [==============================] - 25s 666ms/step - loss: 0.5961 - accuracy: 0.7210 - val_loss: 8.1039 - val_accuracy: 0.3178 - lr: 0.0010\n",
            "Epoch 17/100\n",
            "37/37 [==============================] - 25s 673ms/step - loss: 0.5763 - accuracy: 0.7440 - val_loss: 4.0356 - val_accuracy: 0.4252 - lr: 0.0010\n"
          ]
        }
      ],
      "source": [
        "model_ft.compile(\n",
        "    optimizer=\"adam\", loss=\"categorical_crossentropy\", metrics=[\"accuracy\"]\n",
        ")\n",
        "\n",
        "start_ft = timeit.default_timer()\n",
        "\n",
        "history = model_ft.fit(\n",
        "    train_generator,\n",
        "    epochs=epochs,\n",
        "    batch_size=batch_size,\n",
        "    callbacks=[early, plateau],\n",
        "    validation_data=valid_generator,\n",
        "    class_weight=train_class_weights,\n",
        "    verbose=1,\n",
        ")\n",
        "\n",
        "stop_ft = timeit.default_timer()"
      ],
      "id": "6ce9694d"
    },
    {
      "cell_type": "code",
      "execution_count": 18,
      "metadata": {
        "id": "3b0161ff",
        "colab": {
          "base_uri": "https://localhost:8080/"
        },
        "outputId": "5f83eecd-dd59-46b9-9b94-46743cee5b1c"
      },
      "outputs": [
        {
          "output_type": "stream",
          "name": "stdout",
          "text": [
            "Model Xception fine tuning executed in 9.38 minutes\n"
          ]
        }
      ],
      "source": [
        "execution_time_ft = (stop_ft - start_ft) / 60\n",
        "print(\n",
        "    f\"Model {model_name} fine tuning executed in {execution_time_ft:.2f} minutes\"\n",
        ")"
      ],
      "id": "3b0161ff"
    },
    {
      "cell_type": "code",
      "execution_count": 19,
      "metadata": {
        "id": "5baaff66",
        "colab": {
          "base_uri": "https://localhost:8080/"
        },
        "outputId": "71a004fb-0225-4378-bd4b-37434666edde"
      },
      "outputs": [
        {
          "output_type": "stream",
          "name": "stderr",
          "text": [
            "/usr/local/lib/python3.10/dist-packages/keras/src/engine/training.py:3103: UserWarning: You are saving your model as an HDF5 file via `model.save()`. This file format is considered legacy. We recommend using instead the native Keras format, e.g. `model.save('my_model.keras')`.\n",
            "  saving_api.save_model(\n"
          ]
        }
      ],
      "source": [
        "model_ft.save(save_model_ft)"
      ],
      "id": "5baaff66"
    },
    {
      "cell_type": "code",
      "execution_count": 20,
      "metadata": {
        "id": "c97d88ae",
        "colab": {
          "base_uri": "https://localhost:8080/",
          "height": 487
        },
        "outputId": "ec74cb4d-7f72-4e13-eaf2-ef7faddfa234"
      },
      "outputs": [
        {
          "output_type": "display_data",
          "data": {
            "text/plain": [
              "<Figure size 640x480 with 2 Axes>"
            ],
            "image/png": "[encoded data removed]"
          },
          "metadata": {}
        }
      ],
      "source": [
        "get_plot_loss_acc(model_ft, f\"{model_name} Fine Tuning\")"
      ],
      "id": "c97d88ae"
    },
    {
      "cell_type": "code",
      "execution_count": 21,
      "metadata": {
        "id": "6f20eb54",
        "colab": {
          "base_uri": "https://localhost:8080/"
        },
        "outputId": "276a57c7-1718-4190-bdb9-f5de80b3bf65"
      },
      "outputs": [
        {
          "output_type": "stream",
          "name": "stdout",
          "text": [
            "7/7 [==============================] - 1s 133ms/step - loss: 1.1896 - accuracy: 0.5794\n",
            "Valid loss: 1.19\n",
            "Valid accuracy: 0.58\n"
          ]
        }
      ],
      "source": [
        "get_evaluate(valid_generator, \"Valid\", model_ft)"
      ],
      "id": "6f20eb54"
    },
    {
      "cell_type": "code",
      "execution_count": 22,
      "metadata": {
        "id": "453566d8",
        "colab": {
          "base_uri": "https://localhost:8080/"
        },
        "outputId": "98d25c5b-1599-4ec8-b728-f0857da6aef5"
      },
      "outputs": [
        {
          "output_type": "stream",
          "name": "stdout",
          "text": [
            "7/7 [==============================] - 2s 144ms/step\n",
            "Accuracy Score - Xception: 0.58\n",
            "Balanced Accuracy Score - Xception: 0.58\n",
            "\n",
            "\n",
            "              precision    recall  f1-score   support\n",
            "\n",
            "           0       0.51      0.80      0.63        51\n",
            "           1       0.55      0.22      0.31        50\n",
            "           2       0.53      0.62      0.57        50\n",
            "           3       0.72      0.66      0.69        50\n",
            "           4       0.80      0.62      0.70        13\n",
            "\n",
            "    accuracy                           0.58       214\n",
            "   macro avg       0.62      0.58      0.58       214\n",
            "weighted avg       0.59      0.58      0.56       214\n",
            "\n"
          ]
        }
      ],
      "source": [
        "predict_model_ft = get_predict(valid_generator, model_ft)\n",
        "\n",
        "get_metrics(\n",
        "    valid_generator.labels,\n",
        "    y_pred=np.argmax(predict_model_ft, axis=1),\n",
        "    model_name=model_name,\n",
        ")"
      ],
      "id": "453566d8"
    },
    {
      "cell_type": "code",
      "execution_count": 23,
      "metadata": {
        "id": "b9377519",
        "colab": {
          "base_uri": "https://localhost:8080/",
          "height": 487
        },
        "outputId": "6d7aaa82-c521-4bb6-b647-faf9b57d77ab"
      },
      "outputs": [
        {
          "output_type": "display_data",
          "data": {
            "text/plain": [
              "<Figure size 600x500 with 2 Axes>"
            ],
            "image/png": "[encoded data removed]"
          },
          "metadata": {}
        }
      ],
      "source": [
        "compute_confusion_matrix(\n",
        "    valid_generator, predict_model_ft, class_names, f\"{model_name} Fine Tuning\"\n",
        ")"
      ],
      "id": "b9377519"
    }
  ],
  "metadata": {
    "accelerator": "GPU",
    "colab": {
      "gpuType": "T4",
      "toc_visible": true,
      "provenance": [],
      "include_colab_link": true
    },
    "kernelspec": {
      "display_name": "Python 3",
      "name": "python3"
    },
    "language_info": {
      "codemirror_mode": {
        "name": "ipython",
        "version": 3
      },
      "file_extension": ".py",
      "mimetype": "text/x-python",
      "name": "python",
      "nbconvert_exporter": "python",
      "pygments_lexer": "ipython3",
      "version": "3.7.16"
    }
  },
  "nbformat": 4,
  "nbformat_minor": 5
}